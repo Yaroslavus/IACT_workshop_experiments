{
 "cells": [
  {
   "cell_type": "code",
   "execution_count": null,
   "metadata": {},
   "outputs": [],
   "source": [
    "import pandas as pd\n",
    "import numpy as np\n",
    "import matplotlib.pyplot as plt\n",
    "import pylab\n",
    "import matplotlib.patches\n",
    "import matplotlib.lines\n",
    "import matplotlib.path\n",
    "#===========================================================================\n",
    "def drawCircles (axes):\n",
    "    \"\"\"\n",
    "    Рисование окружностей\n",
    "    \"\"\"\n",
    "    circle1 = matplotlib.patches.Circle((0, 0), radius=0.1, fill=True)\n",
    "    axes.add_patch (circle1)\n",
    "    pylab.text (0, 0.2, \"Circle\", horizontalalignment=\"center\")\n",
    "\n",
    "    circle2 = matplotlib.patches.Circle((0, 0),\n",
    "                                        radius=1.5,\n",
    "                                        fill=False,\n",
    "                                        color=\"r\")\n",
    "    axes.add_patch (circle2)\n",
    "    pylab.text (0, 1.55, \"Circle\", horizontalalignment=\"center\")\n",
    "    \n"
   ]
  }
 ],
 "metadata": {
  "kernelspec": {
   "display_name": "Python 3",
   "language": "python",
   "name": "python3"
  },
  "language_info": {
   "codemirror_mode": {
    "name": "ipython",
    "version": 3
   },
   "file_extension": ".py",
   "mimetype": "text/x-python",
   "name": "python",
   "nbconvert_exporter": "python",
   "pygments_lexer": "ipython3",
   "version": "3.7.4"
  }
 },
 "nbformat": 4,
 "nbformat_minor": 2
}
