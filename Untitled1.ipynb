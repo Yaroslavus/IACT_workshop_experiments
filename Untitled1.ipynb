{
 "cells": [
  {
   "cell_type": "code",
   "execution_count": 1,
   "metadata": {},
   "outputs": [],
   "source": [
    "import telescope_in_workshop_functions as ft\n",
    "import pandas as pd\n",
    "\n",
    "Mirrors = ['']*34\n",
    "\n",
    "with open('/home/yaroslav/Yaroslavus_GitHub/IACT_workshop_experiments/Summary_table.csv', 'r') as f:\n",
    "\n",
    "    temp = f.read().splitlines()\n",
    "\n",
    "for i in range(len(temp)):   \n",
    "\n",
    "    k = list(temp[i].split())\n",
    "    a = ft.mirror(float(k[0]), float(k[1]), float(k[2]), float(k[3]), float(k[4]), float(k[5]), float(k[6]), float(k[7]), float(k[8]), float(k[9]), float(k[10]))\n",
    "    Mirrors[i] = a"
   ]
  },
  {
   "cell_type": "code",
   "execution_count": 6,
   "metadata": {},
   "outputs": [
    {
     "name": "stdout",
     "output_type": "stream",
     "text": [
      "<class 'telescope_in_workshop_functions.mirror'>\n"
     ]
    }
   ],
   "source": []
  },
  {
   "cell_type": "code",
   "execution_count": null,
   "metadata": {},
   "outputs": [],
   "source": []
  }
 ],
 "metadata": {
  "kernelspec": {
   "display_name": "Python 3",
   "language": "python",
   "name": "python3"
  },
  "language_info": {
   "codemirror_mode": {
    "name": "ipython",
    "version": 3
   },
   "file_extension": ".py",
   "mimetype": "text/x-python",
   "name": "python",
   "nbconvert_exporter": "python",
   "pygments_lexer": "ipython3",
   "version": "3.7.4"
  }
 },
 "nbformat": 4,
 "nbformat_minor": 2
}
